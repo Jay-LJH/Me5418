{
 "cells": [
  {
   "cell_type": "code",
   "execution_count": 2,
   "id": "e782b6b1-bb41-497b-b66f-99c1ddb6866c",
   "metadata": {},
   "outputs": [
    {
     "data": {
      "image/png": "[encoded data removed]",
      "text/plain": [
       "<Figure size 640x480 with 1 Axes>"
      ]
     },
     "metadata": {},
     "output_type": "display_data"
    }
   ],
   "source": [
    "# Test the renderer\n",
    "import gymnasium\n",
    "from headless_renderer import headless_renderer\n",
    "\n",
    "# Make gym env\n",
    "env = gymnasium.make('CartPole-v1', render_mode = \"rgb_array\")\n",
    "observation = env.reset()\n",
    "\n",
    "# Create renderer\n",
    "renderer = headless_renderer(env)\n",
    "\n",
    "# Run the env\n",
    "for t in range(1000):\n",
    "    #Render to frames buffer\n",
    "    renderer.update_display()\n",
    "    action = env.action_space.sample()\n",
    "    _, _, terminated, truncated, _ = env.step(action)\n",
    "    done = terminated | truncated\n",
    "    if done:\n",
    "        break\n",
    "\n",
    "env.close()"
   ]
  },
  {
   "cell_type": "code",
   "execution_count": 2,
   "id": "dfa3fa21-5645-42ed-8b26-f4e8192e53c8",
   "metadata": {},
   "outputs": [
    {
     "name": "stdout",
     "output_type": "stream",
     "text": [
      "This should output if constants.logger is true:\n",
      "Hello World!\n"
     ]
    }
   ],
   "source": [
    "# Test the logger\n",
    "from logger import logger\n",
    "\n",
    "print(\"This should output if constants.logger is true:\")\n",
    "logger.log(\"Hello World!\")"
   ]
  },
  {
   "cell_type": "code",
   "execution_count": null,
   "id": "b33180c5-b083-4598-880f-ee148a324b1f",
   "metadata": {},
   "outputs": [],
   "source": []
  },
  {
   "cell_type": "code",
   "execution_count": 1,
   "id": "93e988c9-b28f-4251-a894-4f0f16aac0f5",
   "metadata": {},
   "outputs": [
    {
     "name": "stderr",
     "output_type": "stream",
     "text": [
      "/opt/conda/lib/python3.11/site-packages/gymnasium/envs/registration.py:734: UserWarning: \u001b[33mWARN: The environment is being initialised with render_mode='rgb_array' that is not in the possible render_modes ([]).\u001b[0m\n",
      "  logger.warn(\n",
      "/opt/conda/lib/python3.11/site-packages/gymnasium/utils/passive_env_checker.py:130: UserWarning: \u001b[33mWARN: The obs returned by the `reset()` method was expecting a numpy array, actual type: <class 'method'>\u001b[0m\n",
      "  logger.warn(\n",
      "/opt/conda/lib/python3.11/site-packages/gymnasium/spaces/box.py:418: UserWarning: \u001b[33mWARN: Casting input x to numpy array.\u001b[0m\n",
      "  gym.logger.warn(\"Casting input x to numpy array.\")\n",
      "/opt/conda/lib/python3.11/site-packages/gymnasium/utils/passive_env_checker.py:158: UserWarning: \u001b[33mWARN: The obs returned by the `reset()` method is not within the observation space.\u001b[0m\n",
      "  logger.warn(f\"{pre} is not within the observation space.\")\n",
      "/opt/conda/lib/python3.11/site-packages/gymnasium/utils/passive_env_checker.py:334: UserWarning: \u001b[33mWARN: No render fps was declared in the environment (env.metadata['render_fps'] is None or not defined), rendering may occur at inconsistent fps.\u001b[0m\n",
      "  logger.warn(\n"
     ]
    },
    {
     "data": {
      "image/png": "[encoded data removed]",
      "text/plain": [
       "<Figure size 640x480 with 1 Axes>"
      ]
     },
     "metadata": {},
     "output_type": "display_data"
    }
   ],
   "source": [
    "# Test rendering the first frame\n",
    "import gymnasium\n",
    "from headless_renderer import headless_renderer\n",
    "from cargo_moving_truck_env import cargo_moving_truck_env\n",
    "\n",
    "# Register environment\n",
    "gymnasium.register(id = \"CargoMovingTruck-v0\", entry_point = cargo_moving_truck_env)\n",
    "\n",
    "# Make gym env\n",
    "env = gymnasium.make('CargoMovingTruck-v0', render_mode = \"rgb_array\")\n",
    "observation = env.reset()\n",
    "\n",
    "# Create renderer\n",
    "renderer = headless_renderer(env)\n",
    "\n",
    "'''\n",
    "# Run the env\n",
    "for t in range(1000):\n",
    "    #Render to frames buffer\n",
    "    renderer.update_display()\n",
    "    action = env.action_space.sample()\n",
    "    _, _, terminated, truncated, _ = env.step(action)\n",
    "    done = terminated | truncated\n",
    "    if done:\n",
    "        break\n",
    "'''\n",
    "\n",
    "env.close()"
   ]
  },
  {
   "cell_type": "code",
   "execution_count": null,
   "id": "922f8984-5cb9-43b6-98fb-5fd503fbc49c",
   "metadata": {},
   "outputs": [],
   "source": []
  }
 ],
 "metadata": {
  "kernelspec": {
   "display_name": "Python 3 (ipykernel)",
   "language": "python",
   "name": "python3"
  },
  "language_info": {
   "codemirror_mode": {
    "name": "ipython",
    "version": 3
   },
   "file_extension": ".py",
   "mimetype": "text/x-python",
   "name": "python",
   "nbconvert_exporter": "python",
   "pygments_lexer": "ipython3",
   "version": "3.11.9"
  }
 },
 "nbformat": 4,
 "nbformat_minor": 5
}
